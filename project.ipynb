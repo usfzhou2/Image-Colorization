{
 "cells": [
  {
   "cell_type": "code",
   "execution_count": 1,
   "metadata": {},
   "outputs": [],
   "source": [
    "import numpy as np\n",
    "import pandas as pd\n",
    "import glob\n",
    "import matplotlib.pyplot as plt\n",
    "\n",
    "from PIL import Image"
   ]
  },
  {
   "cell_type": "markdown",
   "metadata": {},
   "source": [
    "## Load image data"
   ]
  },
  {
   "cell_type": "code",
   "execution_count": 2,
   "metadata": {},
   "outputs": [],
   "source": [
    "def convert_img_to_npy(file_list):\n",
    "    \"\"\"Convert images in file_list to a numpy array.\n",
    "    \n",
    "    Only include the color images.\n",
    "    Return the numpy array and the color image file list.\n",
    "    \"\"\"\n",
    "    data, flist = [], []\n",
    "    for f in file_list:\n",
    "        img = np.array(Image.open(f))\n",
    "        if img.shape == (256, 256, 3):\n",
    "            data.append(img)\n",
    "            flist.append(f)\n",
    "    return np.array(data), flist"
   ]
  },
  {
   "cell_type": "code",
   "execution_count": 3,
   "metadata": {},
   "outputs": [
    {
     "data": {
      "text/plain": [
       "36500"
      ]
     },
     "execution_count": 3,
     "metadata": {},
     "output_type": "execute_result"
    }
   ],
   "source": [
    "val_files = glob.glob(\"data/val/*.jpg\")\n",
    "len(val_files)"
   ]
  },
  {
   "cell_type": "code",
   "execution_count": 4,
   "metadata": {},
   "outputs": [
    {
     "data": {
      "text/plain": [
       "['data/val/Places365_val_00030936.jpg',\n",
       " 'data/val/Places365_val_00001533.jpg',\n",
       " 'data/val/Places365_val_00011720.jpg',\n",
       " 'data/val/Places365_val_00007142.jpg',\n",
       " 'data/val/Places365_val_00008271.jpg']"
      ]
     },
     "execution_count": 4,
     "metadata": {},
     "output_type": "execute_result"
    }
   ],
   "source": [
    "val_files[:5]"
   ]
  },
  {
   "cell_type": "code",
   "execution_count": 5,
   "metadata": {},
   "outputs": [
    {
     "data": {
      "text/plain": [
       "(5, 256, 256, 3)"
      ]
     },
     "execution_count": 5,
     "metadata": {},
     "output_type": "execute_result"
    }
   ],
   "source": [
    "test, ftest = convert_img_to_npy(val_files[:5])\n",
    "test.shape"
   ]
  },
  {
   "cell_type": "code",
   "execution_count": 7,
   "metadata": {},
   "outputs": [
    {
     "data": {
      "text/plain": [
       "(36421, 256, 256, 3)"
      ]
     },
     "execution_count": 7,
     "metadata": {},
     "output_type": "execute_result"
    }
   ],
   "source": [
    "val_data, val_flist = convert_img_to_npy(val_files)\n",
    "val_data.shape"
   ]
  },
  {
   "cell_type": "code",
   "execution_count": 8,
   "metadata": {},
   "outputs": [],
   "source": [
    "assert val_data.shape[0] == len(val_flist)"
   ]
  },
  {
   "cell_type": "code",
   "execution_count": 9,
   "metadata": {},
   "outputs": [],
   "source": [
    "# save color image data in val to a .npy file\n",
    "np.save(\"data/val/val_data.npy\", val_data)\n",
    "\n",
    "# save color image filenames in val to a .txt file\n",
    "with open(\"data/val/val_files.txt\", \"w\") as f:\n",
    "    f.writelines(f\"{file}\\n\" for file in val_flist)"
   ]
  },
  {
   "cell_type": "code",
   "execution_count": null,
   "metadata": {},
   "outputs": [],
   "source": []
  }
 ],
 "metadata": {
  "kernelspec": {
   "display_name": "Python 3",
   "language": "python",
   "name": "python3"
  },
  "language_info": {
   "codemirror_mode": {
    "name": "ipython",
    "version": 3
   },
   "file_extension": ".py",
   "mimetype": "text/x-python",
   "name": "python",
   "nbconvert_exporter": "python",
   "pygments_lexer": "ipython3",
   "version": "3.7.4"
  }
 },
 "nbformat": 4,
 "nbformat_minor": 2
}
